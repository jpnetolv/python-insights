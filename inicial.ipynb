version https://git-lfs.github.com/spec/v1
oid sha256:b81b68541948a83bd03ca1df5b40fce1d53b9dc139fa1f03104380d8e8bdb91f
size 152265275
